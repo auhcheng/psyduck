{
  "nbformat": 4,
  "nbformat_minor": 2,
  "metadata": {
    "colab": {
      "name": "Interacting with Jukebox",
      "provenance": [],
      "collapsed_sections": [],
      "machine_shape": "hm"
    },
    "kernelspec": {
      "name": "python3",
      "display_name": "Python 3.8.10 64-bit"
    },
    "accelerator": "GPU",
    "language_info": {
      "name": "python",
      "version": "3.8.10",
      "mimetype": "text/x-python",
      "codemirror_mode": {
        "name": "ipython",
        "version": 3
      },
      "pygments_lexer": "ipython3",
      "nbconvert_exporter": "python",
      "file_extension": ".py"
    },
    "interpreter": {
      "hash": "916dbcbb3f70747c44a77c7bcd40155683ae19c65e1c03b4aa3499c5328201f1"
    }
  },
  "cells": [
    {
      "cell_type": "markdown",
      "source": [
        "IMPORTANT NOTE ON SYSTEM REQUIREMENTS:\n",
        "\n",
        "If you are connecting to a hosted runtime, make sure it has a P100 GPU (optionally run !nvidia-smi to confirm). Go to Edit>Notebook Settings to set this.\n",
        "\n",
        "CoLab may first assign you a lower memory machine if you are using a hosted runtime.  If so, the first time you try to load the 5B model, it will run out of memory, and then you'll be prompted to restart with more memory (then return to the top of this CoLab).  If you continue to have memory issues after this (or run into issues on your own home setup), switch to the 1B model.\n",
        "\n",
        "If you are using a local GPU, we recommend V100 or P100 with 16GB GPU memory for best performance. For GPU’s with less memory, we recommend using the 1B model and a smaller batch size throughout.  \n",
        "\n"
      ],
      "metadata": {
        "id": "uq8uLwZCn0BV"
      }
    },
    {
      "cell_type": "code",
      "execution_count": null,
      "source": [
        "!nvidia-smi -L\n",
        "!pip3 install --upgrade pip"
      ],
      "outputs": [],
      "metadata": {
        "id": "8qEqdj8u0gdN"
      }
    },
    {
      "cell_type": "markdown",
      "source": [
        "Mount Google Drive to save sample levels as they are generated."
      ],
      "metadata": {
        "id": "VAMZK4GNA_PM"
      }
    },
    {
      "cell_type": "code",
      "execution_count": null,
      "source": [
        "from google.colab import drive\n",
        "drive.mount('/content/gdrive')"
      ],
      "outputs": [],
      "metadata": {
        "id": "ZPdMgaH_BPGN"
      }
    },
    {
      "cell_type": "markdown",
      "source": [
        "Prepare the environment."
      ],
      "metadata": {
        "id": "Zy4Rehq9ZKv_"
      }
    },
    {
      "cell_type": "code",
      "execution_count": null,
      "source": [
        "!pip install git+https://github.com/openai/jukebox.git"
      ],
      "outputs": [],
      "metadata": {
        "id": "sAdFGF-bqVMY"
      }
    },
    {
      "cell_type": "code",
      "execution_count": 1,
      "source": [
        "import jukebox\n",
        "import torch as t\n",
        "import librosa\n",
        "import os\n",
        "from IPython.display import Audio\n",
        "from jukebox.make_models import make_vqvae, make_prior, MODELS, make_model\n",
        "from jukebox.hparams import Hyperparams, setup_hparams\n",
        "from jukebox.sample import sample_single_window, _sample, \\\n",
        "                           sample_partial_window, upsample, \\\n",
        "                           load_prompts\n",
        "from jukebox.utils.dist_utils import setup_dist_from_mpi\n",
        "from jukebox.utils.torch_utils import empty_cache\n",
        "rank, local_rank, device = setup_dist_from_mpi()"
      ],
      "outputs": [
        {
          "output_type": "stream",
          "name": "stdout",
          "text": [
            "Using cuda True\n"
          ]
        }
      ],
      "metadata": {
        "id": "taDHgk1WCC_C"
      }
    },
    {
      "cell_type": "markdown",
      "source": [
        "# Sample from the 5B or 1B Lyrics Model\n"
      ],
      "metadata": {
        "id": "89FftI5kc-Az"
      }
    },
    {
      "cell_type": "code",
      "execution_count": 2,
      "source": [
        "model = '1b_lyrics' # or '5b' or '1b_lyrics'\n",
        "hps = Hyperparams()\n",
        "hps.sr = 44100\n",
        "hps.n_samples = 3 if model in ('5b', '5b_lyrics') else 1\n",
        "# Specifies the directory to save the sample in.\n",
        "# We set this to the Google Drive mount point.\n",
        "hps.name = './samples'\n",
        "chunk_size = 16 if model in ('5b', '5b_lyrics') else 16\n",
        "max_batch_size = 3 if model in ('5b', '5b_lyrics') else 3\n",
        "hps.levels = 3\n",
        "hps.hop_fraction = [.5,.5,.125]\n",
        "\n",
        "vqvae, *priors = MODELS[model]\n",
        "vqvae = make_vqvae(setup_hparams(vqvae, dict(sample_length = 1048576)), device)\n",
        "top_prior = make_prior(setup_hparams(priors[-1], dict()), vqvae, device)"
      ],
      "outputs": [
        {
          "output_type": "stream",
          "name": "stdout",
          "text": [
            "Downloading from azure\n",
            "Restored from /home/sam/.cache/jukebox/models/5b/vqvae.pth.tar\n",
            "0: Loading vqvae in eval mode\n",
            "Creating cond. autoregress with prior bins [79, 2048], \n",
            "dims [384, 6144], \n",
            "shift [ 0 79]\n",
            "input shape 6528\n",
            "input bins 2127\n",
            "Self copy is False\n",
            "Loading artist IDs from /usr/local/lib/python3.8/dist-packages/jukebox/data/ids/v3_artist_ids.txt\n",
            "Loading artist IDs from /usr/local/lib/python3.8/dist-packages/jukebox/data/ids/v3_genre_ids.txt\n",
            "Level:2, Cond downsample:None, Raw to tokens:128, Sample length:786432\n",
            "Downloading from azure\n",
            "Restored from /home/sam/.cache/jukebox/models/1b_lyrics/prior_level_2.pth.tar\n",
            "0: Loading prior in eval mode\n"
          ]
        }
      ],
      "metadata": {
        "id": "65aR2OZxmfzq"
      }
    },
    {
      "cell_type": "markdown",
      "source": [
        "# Select mode\n",
        "Run one of these cells to select the desired mode."
      ],
      "metadata": {
        "id": "rvf-5pnjbmI1"
      }
    },
    {
      "cell_type": "code",
      "execution_count": 3,
      "source": [
        "# The default mode of operation.\n",
        "# Creates songs based on artist and genre conditioning.\n",
        "mode = 'ancestral'\n",
        "codes_file=None\n",
        "audio_file=None\n",
        "prompt_length_in_seconds=None"
      ],
      "outputs": [],
      "metadata": {
        "id": "VVOQ3egdj65y"
      }
    },
    {
      "cell_type": "code",
      "execution_count": 3,
      "source": [
        "# Prime song creation using an arbitrary audio sample.\n",
        "mode = 'primed'\n",
        "codes_file=None\n",
        "# Specify an audio file here.\n",
        "audio_file = '/content/gdrive/My Drive/primer.wav'\n",
        "# Specify how many seconds of audio to prime on.\n",
        "prompt_length_in_seconds=12"
      ],
      "outputs": [],
      "metadata": {
        "id": "Vqqv2rJKkMXd"
      }
    },
    {
      "cell_type": "markdown",
      "source": [
        "Run this cell to automatically resume from the latest checkpoint file, but only if the checkpoint file exists.\n",
        "This will override the selected mode.\n",
        "We will assume the existance of a checkpoint means generation is complete and it's time for upsamping to occur."
      ],
      "metadata": {
        "id": "OxZMi-S3cT2b"
      }
    },
    {
      "cell_type": "code",
      "execution_count": 4,
      "source": [
        "if os.path.exists(hps.name):\n",
        "  # Identify the lowest level generated and continue from there.\n",
        "  for level in [1, 2]:\n",
        "    data = f\"{hps.name}/level_{level}/data.pth.tar\"\n",
        "    if os.path.isfile(data):\n",
        "      mode = 'upsample'\n",
        "      codes_file = data\n",
        "      print('Upsampling from level '+str(level))\n",
        "      break\n",
        "print('mode is now '+mode)"
      ],
      "outputs": [
        {
          "output_type": "stream",
          "name": "stdout",
          "text": [
            "mode is now ancestral\n"
          ]
        }
      ],
      "metadata": {
        "id": "GjRwyTDhbvf-"
      }
    },
    {
      "cell_type": "markdown",
      "source": [
        "Run the cell below regardless of which mode you chose."
      ],
      "metadata": {
        "id": "UA2UhOZ4YfZj"
      }
    },
    {
      "cell_type": "code",
      "execution_count": 5,
      "source": [
        "sample_hps = Hyperparams(dict(mode=mode, codes_file=codes_file, audio_file=audio_file, prompt_length_in_seconds=prompt_length_in_seconds))"
      ],
      "outputs": [],
      "metadata": {
        "id": "Jp7nKnCmk1bx"
      }
    },
    {
      "cell_type": "markdown",
      "source": [
        "Specify your choice of artist, genre, lyrics, and length of musical sample. \n",
        "\n",
        "IMPORTANT: The sample length is crucial for how long your sample takes to generate. Generating a shorter sample takes less time. You are limited to 12 hours on the Google Colab free tier. A 50 second sample should be short enough to fully generate after 12 hours of processing. "
      ],
      "metadata": {
        "id": "JYKiwkzy0Iyf"
      }
    },
    {
      "cell_type": "code",
      "execution_count": 6,
      "source": [
        "sample_length_in_seconds = 20          # Full length of musical sample to generate - we find songs in the 1 to 4 minute\n",
        "                                       # range work well, with generation time proportional to sample length.  \n",
        "                                       # This total length affects how quickly the model \n",
        "                                       # progresses through lyrics (model also generates differently\n",
        "                                       # depending on if it thinks it's in the beginning, middle, or end of sample)\n",
        "hps.sample_length = (int(sample_length_in_seconds*hps.sr)//top_prior.raw_to_tokens)*top_prior.raw_to_tokens\n",
        "assert hps.sample_length >= top_prior.n_ctx*top_prior.raw_to_tokens, f'Please choose a larger sampling rate'"
      ],
      "outputs": [],
      "metadata": {
        "id": "-sY9aGHcZP-u"
      }
    },
    {
      "cell_type": "code",
      "execution_count": 7,
      "source": [
        "# Note: Metas can contain different prompts per sample.\n",
        "# By default, all samples use the same prompt.\n",
        "metas = [dict(artist = \"Rick Astley\",\n",
        "            genre = \"Pop\",\n",
        "            total_length = hps.sample_length,\n",
        "            offset = 0,\n",
        "            lyrics = \"\"\"We're no strangers to love\n",
        "You know the rules and so do I\n",
        "A full commitment's what I'm thinking of\n",
        "You wouldn't get this from any other guy\n",
        "\n",
        "I just wanna tell you how I'm feeling\n",
        "Gotta make you understand\n",
        "\n",
        "Never gonna give you up\n",
        "Never gonna let you down\n",
        "Never gonna run around and desert you\n",
        "Never gonna make you cry\n",
        "Never gonna say goodbye\n",
        "Never gonna tell a lie and hurt you\n",
        "\n",
        "We've known each other for so long\n",
        "Your heart's been aching, but\n",
        "You're too shy to say it\n",
        "Inside, we both know what's been going on\n",
        "We know the game and we're gonna play it\n",
        "\n",
        "And if you ask me how I'm feeling\n",
        "Don't tell me you're too blind to see\n",
        "\n",
        "Never gonna give you up\n",
        "Never gonna let you down\n",
        "Never gonna run around and desert you\n",
        "Never gonna make you cry\n",
        "Never gonna say goodbye\n",
        "Never gonna tell a lie and hurt you\n",
        "\n",
        "Never gonna give you up\n",
        "Never gonna let you down\n",
        "Never gonna run around and desert you\n",
        "Never gonna make you cry\n",
        "Never gonna say goodbye\n",
        "Never gonna tell a lie and hurt you\n",
        "\n",
        "(Ooh, give you up)\n",
        "(Ooh, give you up)\n",
        "Never gonna give, never gonna give\n",
        "(Give you up)\n",
        "Never gonna give, never gonna give\n",
        "(Give you up)\n",
        "\n",
        "We've known each other for so long\n",
        "Your heart's been aching, but\n",
        "You're too shy to say it\n",
        "Inside, we both know what's been going on\n",
        "We know the game and we're gonna play it\n",
        "\n",
        "I just wanna tell you how I'm feeling\n",
        "Gotta make you understand\n",
        "\n",
        "Never gonna give you up\n",
        "Never gonna let you down\n",
        "Never gonna run around and desert you\n",
        "Never gonna make you cry\n",
        "Never gonna say goodbye\n",
        "Never gonna tell a lie and hurt you\n",
        "\n",
        "Never gonna give you up\n",
        "Never gonna let you down\n",
        "Never gonna run around and desert you\n",
        "Never gonna make you cry\n",
        "Never gonna say goodbye\n",
        "Never gonna tell a lie and hurt you\n",
        "\n",
        "Never gonna give you up\n",
        "Never gonna let you down\n",
        "Never gonna run around and desert you\n",
        "Never gonna make you cry\n",
        "Never gonna say goodbye\n",
        "Never gonna tell a lie and hurt you\n",
        "\"\"\",\n",
        "            ),\n",
        "          ] * hps.n_samples\n",
        "labels = [None, None, top_prior.labeller.get_batch_labels(metas, 'cuda')]"
      ],
      "outputs": [],
      "metadata": {
        "id": "qD0qxQeLaTR0"
      }
    },
    {
      "cell_type": "markdown",
      "source": [
        "Optionally adjust the sampling temperature (we've found .98 or .99 to be our favorite).  \n"
      ],
      "metadata": {
        "id": "6PHC1XnEfV4Y"
      }
    },
    {
      "cell_type": "code",
      "execution_count": 8,
      "source": [
        "sampling_temperature = .98\n",
        "\n",
        "lower_batch_size = 16\n",
        "max_batch_size = 3 if model in ('5b', '5b_lyrics') else 16\n",
        "lower_level_chunk_size = 32\n",
        "chunk_size = 16 if model in ('5b', '5b_lyrics') else 32\n",
        "sampling_kwargs = [dict(temp=.99, fp16=True, max_batch_size=lower_batch_size,\n",
        "                        chunk_size=lower_level_chunk_size),\n",
        "                    dict(temp=0.99, fp16=True, max_batch_size=lower_batch_size,\n",
        "                         chunk_size=lower_level_chunk_size),\n",
        "                    dict(temp=sampling_temperature, fp16=True, \n",
        "                         max_batch_size=max_batch_size, chunk_size=chunk_size)]"
      ],
      "outputs": [],
      "metadata": {
        "id": "eNwKyqYraTR9"
      }
    },
    {
      "cell_type": "markdown",
      "source": [
        "Now we're ready to sample from the model. We'll generate the top level (2) first, followed by the first upsampling (level 1), and the second upsampling (0).  In this CoLab we load the top prior separately from the upsamplers, because of memory concerns on the hosted runtimes. If you are using a local machine, you can also load all models directly with make_models, and then use sample.py's ancestral_sampling to put this all in one step.\n",
        "\n",
        "After each level, we decode to raw audio and save the audio files.   \n",
        "\n",
        "This next cell will take a while (approximately 10 minutes per 20 seconds of music sample)"
      ],
      "metadata": {
        "id": "S3j0gT3HfrRD"
      }
    },
    {
      "cell_type": "code",
      "execution_count": 9,
      "source": [
        "if sample_hps.mode == 'ancestral':\n",
        "  zs = [t.zeros(hps.n_samples,0,dtype=t.long, device='cuda') for _ in range(len(priors))]\n",
        "  zs = _sample(zs, labels, sampling_kwargs, [None, None, top_prior], [2], hps)\n",
        "elif sample_hps.mode == 'upsample':\n",
        "  assert sample_hps.codes_file is not None\n",
        "  # Load codes.\n",
        "  data = t.load(sample_hps.codes_file, map_location='cpu')\n",
        "  zs = [z.cuda() for z in data['zs']]\n",
        "  assert zs[-1].shape[0] == hps.n_samples, f\"Expected bs = {hps.n_samples}, got {zs[-1].shape[0]}\"\n",
        "  del data\n",
        "  print('Falling through to the upsample step later in the notebook.')\n",
        "elif sample_hps.mode == 'primed':\n",
        "  assert sample_hps.audio_file is not None\n",
        "  audio_files = sample_hps.audio_file.split(',')\n",
        "  duration = (int(sample_hps.prompt_length_in_seconds*hps.sr)//top_prior.raw_to_tokens)*top_prior.raw_to_tokens\n",
        "  x = load_prompts(audio_files, duration, hps)\n",
        "  zs = top_prior.encode(x, start_level=0, end_level=len(priors), bs_chunks=x.shape[0])\n",
        "  zs = _sample(zs, labels, sampling_kwargs, [None, None, top_prior], [2], hps)\n",
        "else:\n",
        "  raise ValueError(f'Unknown sample mode {sample_hps.mode}.')"
      ],
      "outputs": [
        {
          "output_type": "stream",
          "name": "stdout",
          "text": [
            "Sampling level 2\n",
            "Sampling 6144 tokens for [0,6144]. Conditioning on 0 tokens\n",
            "Ancestral sampling 1 samples with temp=0.98, top_k=0, top_p=0.0\n",
            "12/12 [00:01<00:00,  7.01it/s]\n",
            "6144/6144 [07:27<00:00, 13.72it/s]\n",
            "Sampling 6144 tokens for [746,6890]. Conditioning on 5398 tokens\n",
            "Primed sampling 1 samples with temp=0.98, top_k=0, top_p=0.0\n",
            "181/181 [00:17<00:00, 10.18it/s]\n",
            "746/746 [00:54<00:00, 13.76it/s]\n"
          ]
        },
        {
          "output_type": "error",
          "ename": "PermissionError",
          "evalue": "[Errno 13] Permission denied: '/samples'",
          "traceback": [
            "\u001b[0;31m---------------------------------------------------------------------------\u001b[0m",
            "\u001b[0;31mPermissionError\u001b[0m                           Traceback (most recent call last)",
            "\u001b[0;32m<ipython-input-9-988948e1e679>\u001b[0m in \u001b[0;36m<module>\u001b[0;34m\u001b[0m\n\u001b[1;32m      1\u001b[0m \u001b[0;32mif\u001b[0m \u001b[0msample_hps\u001b[0m\u001b[0;34m.\u001b[0m\u001b[0mmode\u001b[0m \u001b[0;34m==\u001b[0m \u001b[0;34m'ancestral'\u001b[0m\u001b[0;34m:\u001b[0m\u001b[0;34m\u001b[0m\u001b[0;34m\u001b[0m\u001b[0m\n\u001b[1;32m      2\u001b[0m   \u001b[0mzs\u001b[0m \u001b[0;34m=\u001b[0m \u001b[0;34m[\u001b[0m\u001b[0mt\u001b[0m\u001b[0;34m.\u001b[0m\u001b[0mzeros\u001b[0m\u001b[0;34m(\u001b[0m\u001b[0mhps\u001b[0m\u001b[0;34m.\u001b[0m\u001b[0mn_samples\u001b[0m\u001b[0;34m,\u001b[0m\u001b[0;36m0\u001b[0m\u001b[0;34m,\u001b[0m\u001b[0mdtype\u001b[0m\u001b[0;34m=\u001b[0m\u001b[0mt\u001b[0m\u001b[0;34m.\u001b[0m\u001b[0mlong\u001b[0m\u001b[0;34m,\u001b[0m \u001b[0mdevice\u001b[0m\u001b[0;34m=\u001b[0m\u001b[0;34m'cuda'\u001b[0m\u001b[0;34m)\u001b[0m \u001b[0;32mfor\u001b[0m \u001b[0m_\u001b[0m \u001b[0;32min\u001b[0m \u001b[0mrange\u001b[0m\u001b[0;34m(\u001b[0m\u001b[0mlen\u001b[0m\u001b[0;34m(\u001b[0m\u001b[0mpriors\u001b[0m\u001b[0;34m)\u001b[0m\u001b[0;34m)\u001b[0m\u001b[0;34m]\u001b[0m\u001b[0;34m\u001b[0m\u001b[0;34m\u001b[0m\u001b[0m\n\u001b[0;32m----> 3\u001b[0;31m   \u001b[0mzs\u001b[0m \u001b[0;34m=\u001b[0m \u001b[0m_sample\u001b[0m\u001b[0;34m(\u001b[0m\u001b[0mzs\u001b[0m\u001b[0;34m,\u001b[0m \u001b[0mlabels\u001b[0m\u001b[0;34m,\u001b[0m \u001b[0msampling_kwargs\u001b[0m\u001b[0;34m,\u001b[0m \u001b[0;34m[\u001b[0m\u001b[0;32mNone\u001b[0m\u001b[0;34m,\u001b[0m \u001b[0;32mNone\u001b[0m\u001b[0;34m,\u001b[0m \u001b[0mtop_prior\u001b[0m\u001b[0;34m]\u001b[0m\u001b[0;34m,\u001b[0m \u001b[0;34m[\u001b[0m\u001b[0;36m2\u001b[0m\u001b[0;34m]\u001b[0m\u001b[0;34m,\u001b[0m \u001b[0mhps\u001b[0m\u001b[0;34m)\u001b[0m\u001b[0;34m\u001b[0m\u001b[0;34m\u001b[0m\u001b[0m\n\u001b[0m\u001b[1;32m      4\u001b[0m \u001b[0;32melif\u001b[0m \u001b[0msample_hps\u001b[0m\u001b[0;34m.\u001b[0m\u001b[0mmode\u001b[0m \u001b[0;34m==\u001b[0m \u001b[0;34m'upsample'\u001b[0m\u001b[0;34m:\u001b[0m\u001b[0;34m\u001b[0m\u001b[0;34m\u001b[0m\u001b[0m\n\u001b[1;32m      5\u001b[0m   \u001b[0;32massert\u001b[0m \u001b[0msample_hps\u001b[0m\u001b[0;34m.\u001b[0m\u001b[0mcodes_file\u001b[0m \u001b[0;32mis\u001b[0m \u001b[0;32mnot\u001b[0m \u001b[0;32mNone\u001b[0m\u001b[0;34m\u001b[0m\u001b[0;34m\u001b[0m\u001b[0m\n",
            "\u001b[0;32m/usr/local/lib/python3.8/dist-packages/jukebox/sample.py\u001b[0m in \u001b[0;36m_sample\u001b[0;34m(zs, labels, sampling_kwargs, priors, sample_levels, hps)\u001b[0m\n\u001b[1;32m    113\u001b[0m             \u001b[0mlogdir\u001b[0m \u001b[0;34m=\u001b[0m \u001b[0;34mf\"{hps.name}/level_{level}\"\u001b[0m\u001b[0;34m\u001b[0m\u001b[0;34m\u001b[0m\u001b[0m\n\u001b[1;32m    114\u001b[0m         \u001b[0;32mif\u001b[0m \u001b[0;32mnot\u001b[0m \u001b[0mos\u001b[0m\u001b[0;34m.\u001b[0m\u001b[0mpath\u001b[0m\u001b[0;34m.\u001b[0m\u001b[0mexists\u001b[0m\u001b[0;34m(\u001b[0m\u001b[0mlogdir\u001b[0m\u001b[0;34m)\u001b[0m\u001b[0;34m:\u001b[0m\u001b[0;34m\u001b[0m\u001b[0;34m\u001b[0m\u001b[0m\n\u001b[0;32m--> 115\u001b[0;31m             \u001b[0mos\u001b[0m\u001b[0;34m.\u001b[0m\u001b[0mmakedirs\u001b[0m\u001b[0;34m(\u001b[0m\u001b[0mlogdir\u001b[0m\u001b[0;34m)\u001b[0m\u001b[0;34m\u001b[0m\u001b[0;34m\u001b[0m\u001b[0m\n\u001b[0m\u001b[1;32m    116\u001b[0m         \u001b[0mt\u001b[0m\u001b[0;34m.\u001b[0m\u001b[0msave\u001b[0m\u001b[0;34m(\u001b[0m\u001b[0mdict\u001b[0m\u001b[0;34m(\u001b[0m\u001b[0mzs\u001b[0m\u001b[0;34m=\u001b[0m\u001b[0mzs\u001b[0m\u001b[0;34m,\u001b[0m \u001b[0mlabels\u001b[0m\u001b[0;34m=\u001b[0m\u001b[0mlabels\u001b[0m\u001b[0;34m,\u001b[0m \u001b[0msampling_kwargs\u001b[0m\u001b[0;34m=\u001b[0m\u001b[0msampling_kwargs\u001b[0m\u001b[0;34m,\u001b[0m \u001b[0mx\u001b[0m\u001b[0;34m=\u001b[0m\u001b[0mx\u001b[0m\u001b[0;34m)\u001b[0m\u001b[0;34m,\u001b[0m \u001b[0;34mf\"{logdir}/data.pth.tar\"\u001b[0m\u001b[0;34m)\u001b[0m\u001b[0;34m\u001b[0m\u001b[0;34m\u001b[0m\u001b[0m\n\u001b[1;32m    117\u001b[0m         \u001b[0msave_wav\u001b[0m\u001b[0;34m(\u001b[0m\u001b[0mlogdir\u001b[0m\u001b[0;34m,\u001b[0m \u001b[0mx\u001b[0m\u001b[0;34m,\u001b[0m \u001b[0mhps\u001b[0m\u001b[0;34m.\u001b[0m\u001b[0msr\u001b[0m\u001b[0;34m)\u001b[0m\u001b[0;34m\u001b[0m\u001b[0;34m\u001b[0m\u001b[0m\n",
            "\u001b[0;32m/usr/lib/python3.8/os.py\u001b[0m in \u001b[0;36mmakedirs\u001b[0;34m(name, mode, exist_ok)\u001b[0m\n\u001b[1;32m    211\u001b[0m     \u001b[0;32mif\u001b[0m \u001b[0mhead\u001b[0m \u001b[0;32mand\u001b[0m \u001b[0mtail\u001b[0m \u001b[0;32mand\u001b[0m \u001b[0;32mnot\u001b[0m \u001b[0mpath\u001b[0m\u001b[0;34m.\u001b[0m\u001b[0mexists\u001b[0m\u001b[0;34m(\u001b[0m\u001b[0mhead\u001b[0m\u001b[0;34m)\u001b[0m\u001b[0;34m:\u001b[0m\u001b[0;34m\u001b[0m\u001b[0;34m\u001b[0m\u001b[0m\n\u001b[1;32m    212\u001b[0m         \u001b[0;32mtry\u001b[0m\u001b[0;34m:\u001b[0m\u001b[0;34m\u001b[0m\u001b[0;34m\u001b[0m\u001b[0m\n\u001b[0;32m--> 213\u001b[0;31m             \u001b[0mmakedirs\u001b[0m\u001b[0;34m(\u001b[0m\u001b[0mhead\u001b[0m\u001b[0;34m,\u001b[0m \u001b[0mexist_ok\u001b[0m\u001b[0;34m=\u001b[0m\u001b[0mexist_ok\u001b[0m\u001b[0;34m)\u001b[0m\u001b[0;34m\u001b[0m\u001b[0;34m\u001b[0m\u001b[0m\n\u001b[0m\u001b[1;32m    214\u001b[0m         \u001b[0;32mexcept\u001b[0m \u001b[0mFileExistsError\u001b[0m\u001b[0;34m:\u001b[0m\u001b[0;34m\u001b[0m\u001b[0;34m\u001b[0m\u001b[0m\n\u001b[1;32m    215\u001b[0m             \u001b[0;31m# Defeats race condition when another thread created the path\u001b[0m\u001b[0;34m\u001b[0m\u001b[0;34m\u001b[0m\u001b[0;34m\u001b[0m\u001b[0m\n",
            "\u001b[0;32m/usr/lib/python3.8/os.py\u001b[0m in \u001b[0;36mmakedirs\u001b[0;34m(name, mode, exist_ok)\u001b[0m\n\u001b[1;32m    221\u001b[0m             \u001b[0;32mreturn\u001b[0m\u001b[0;34m\u001b[0m\u001b[0;34m\u001b[0m\u001b[0m\n\u001b[1;32m    222\u001b[0m     \u001b[0;32mtry\u001b[0m\u001b[0;34m:\u001b[0m\u001b[0;34m\u001b[0m\u001b[0;34m\u001b[0m\u001b[0m\n\u001b[0;32m--> 223\u001b[0;31m         \u001b[0mmkdir\u001b[0m\u001b[0;34m(\u001b[0m\u001b[0mname\u001b[0m\u001b[0;34m,\u001b[0m \u001b[0mmode\u001b[0m\u001b[0;34m)\u001b[0m\u001b[0;34m\u001b[0m\u001b[0;34m\u001b[0m\u001b[0m\n\u001b[0m\u001b[1;32m    224\u001b[0m     \u001b[0;32mexcept\u001b[0m \u001b[0mOSError\u001b[0m\u001b[0;34m:\u001b[0m\u001b[0;34m\u001b[0m\u001b[0;34m\u001b[0m\u001b[0m\n\u001b[1;32m    225\u001b[0m         \u001b[0;31m# Cannot rely on checking for EEXIST, since the operating system\u001b[0m\u001b[0;34m\u001b[0m\u001b[0;34m\u001b[0m\u001b[0;34m\u001b[0m\u001b[0m\n",
            "\u001b[0;31mPermissionError\u001b[0m: [Errno 13] Permission denied: '/samples'"
          ]
        }
      ],
      "metadata": {
        "id": "9a1tlvcVlHhN"
      }
    },
    {
      "cell_type": "markdown",
      "source": [
        "Listen to the results from the top level (note this will sound very noisy until we do the upsampling stage).  You may have more generated samples, depending on the batch size you requested."
      ],
      "metadata": {
        "id": "-gxY9aqHqfLJ"
      }
    },
    {
      "cell_type": "code",
      "execution_count": null,
      "source": [
        "Audio(f'{hps.name}/level_2/item_0.wav')"
      ],
      "outputs": [],
      "metadata": {
        "id": "TPZENDGZqOOb"
      }
    },
    {
      "cell_type": "markdown",
      "source": [
        "We are now done with the large top_prior model, and instead load the upsamplers."
      ],
      "metadata": {
        "id": "EJc3bQxmusc6"
      }
    },
    {
      "cell_type": "code",
      "execution_count": null,
      "source": [
        "# Set this False if you are on a local machine that has enough memory (this allows you to do the\n",
        "# lyrics alignment visualization during the upsampling stage). For a hosted runtime, \n",
        "# we'll need to go ahead and delete the top_prior if you are using the 5b_lyrics model.\n",
        "if True:\n",
        "  del top_prior\n",
        "  empty_cache()\n",
        "  top_prior=None\n",
        "upsamplers = [make_prior(setup_hparams(prior, dict()), vqvae, 'cpu') for prior in priors[:-1]]\n",
        "labels[:2] = [prior.labeller.get_batch_labels(metas, 'cuda') for prior in upsamplers]"
      ],
      "outputs": [],
      "metadata": {
        "id": "W5VLX0zRapIm"
      }
    },
    {
      "cell_type": "markdown",
      "source": [
        "Please note: this next upsampling step will take several hours.  At the free tier, Google CoLab lets you run for 12 hours.  As the upsampling is completed, samples will appear in the Files tab (you can access this at the left of the CoLab), under \"samples\" (or whatever hps.name is currently).  Level 1 is the partially upsampled version, and then Level 0 is fully completed."
      ],
      "metadata": {
        "id": "eH_jUhGDprAt"
      }
    },
    {
      "cell_type": "code",
      "execution_count": null,
      "source": [
        "zs = upsample(zs, labels, sampling_kwargs, [*upsamplers, top_prior], hps)"
      ],
      "outputs": [],
      "metadata": {
        "id": "9lkJgLolpZ6w"
      }
    },
    {
      "cell_type": "markdown",
      "source": [
        "Listen to your final sample!"
      ],
      "metadata": {
        "id": "3SJgBYJPri55"
      }
    },
    {
      "cell_type": "code",
      "execution_count": null,
      "source": [
        "Audio(f'{hps.name}/level_0/item_0.wav')"
      ],
      "outputs": [],
      "metadata": {
        "id": "2ip2PPE0rgAb"
      }
    },
    {
      "cell_type": "code",
      "execution_count": null,
      "source": [
        "del upsamplers\n",
        "empty_cache()"
      ],
      "outputs": [],
      "metadata": {
        "id": "8JAgFxytwrLG"
      }
    },
    {
      "cell_type": "markdown",
      "source": [
        "# Co-Composing with the 5B or 1B Lyrics Model"
      ],
      "metadata": {
        "id": "LpvvFH85bbBC"
      }
    },
    {
      "cell_type": "markdown",
      "source": [
        "For more control over the generations, try co-composing with either the 5B or 1B Lyrics Models.  Again, specify your artist, genre, and lyrics. However, now instead of generating the entire sample, the model will return 3 short options for the opening of the piece (or up to 16 options if you use the 1B model instead).  Choose your favorite, and then continue the loop, for as long as you like.  Throughout these steps, you'll be listening to the audio at the top prior level, which means it will sound quite noisy.  When you are satisfied with your co-creation, continue on through the upsampling section. This will render the piece in higher audio quality.\n",
        "\n",
        "NOTE: CoLab will first assign you a lower memory machine if you are using a hosted runtime.  The next cell will run out of memory, and then you'll be prompted to restart with more memory (then return to the top of this CoLab).  If you continue to have memory issues after this (or run into issues on your own home setup), switch to the 1B model. "
      ],
      "metadata": {
        "id": "nFDROuS7gFQY"
      }
    },
    {
      "cell_type": "code",
      "execution_count": null,
      "source": [
        "model = \"5b_lyrics\" # or \"1b_lyrics\"\n",
        "hps = Hyperparams()\n",
        "hps.sr = 44100\n",
        "hps.n_samples = 3 if model in ('5b', '5b_lyrics') else 16\n",
        "# Specifies the directory to save the sample in.\n",
        "# We set this to the Google Drive mount point.\n",
        "hps.name = '/content/gdrive/My Drive/co_composer'\n",
        "hps.sample_length = 1048576 if model in ('5b', '5b_lyrics') else 786432 \n",
        "chunk_size = 16 if model in ('5b', '5b_lyrics') else 32\n",
        "max_batch_size = 3 if model in ('5b', '5b_lyrics') else 16\n",
        "hps.hop_fraction = [.5, .5, .125] \n",
        "hps.levels = 3\n",
        "\n",
        "vqvae, *priors = MODELS[model]\n",
        "vqvae = make_vqvae(setup_hparams(vqvae, dict(sample_length = hps.sample_length)), device)\n",
        "top_prior = make_prior(setup_hparams(priors[-1], dict()), vqvae, device)"
      ],
      "outputs": [],
      "metadata": {
        "id": "3y-q8ifhGBlU"
      }
    },
    {
      "cell_type": "markdown",
      "source": [
        "# Select mode\n",
        "Run one of these cells to select the desired mode."
      ],
      "metadata": {
        "id": "CaaluFILqoPy"
      }
    },
    {
      "cell_type": "code",
      "execution_count": null,
      "source": [
        "# The default mode of operation.\n",
        "# Creates songs based on artist and genre conditioning.\n",
        "mode = 'ancestral'\n",
        "codes_file=None\n",
        "audio_file=None\n",
        "prompt_length_in_seconds=None"
      ],
      "outputs": [],
      "metadata": {
        "id": "QAZ08Fq3qoPy"
      }
    },
    {
      "cell_type": "code",
      "execution_count": null,
      "source": [
        "# Prime song creation using an arbitrary audio sample.\n",
        "mode = 'primed'\n",
        "codes_file=None\n",
        "# Specify an audio file here.\n",
        "audio_file = '/content/gdrive/My Drive/primer.wav'\n",
        "# Specify how many seconds of audio to prime on.\n",
        "prompt_length_in_seconds=12"
      ],
      "outputs": [],
      "metadata": {
        "id": "sl_EIj7rqoPy"
      }
    },
    {
      "cell_type": "markdown",
      "source": [
        "Run the cell below regardless of which mode you chose."
      ],
      "metadata": {
        "id": "GEUk300dqoPy"
      }
    },
    {
      "cell_type": "code",
      "execution_count": null,
      "source": [
        "sample_hps = Hyperparams(dict(mode=mode, codes_file=codes_file, audio_file=audio_file, prompt_length_in_seconds=prompt_length_in_seconds))"
      ],
      "outputs": [],
      "metadata": {
        "id": "YIse8_ZtqoPy"
      }
    },
    {
      "cell_type": "markdown",
      "source": [
        "Specify your choice of artist, genre, lyrics, and length of musical sample. "
      ],
      "metadata": {
        "id": "68hz4x7igq0c"
      }
    },
    {
      "cell_type": "code",
      "execution_count": null,
      "source": [
        "sample_length_in_seconds = 71          # Full length of musical sample to generate - we find songs in the 1 to 4 minute\n",
        "                                       # range work well, with generation time proportional to sample length.  \n",
        "                                       # This total length affects how quickly the model \n",
        "                                       # progresses through lyrics (model also generates differently\n",
        "                                       # depending on if it thinks it's in the beginning, middle, or end of sample)\n",
        "hps.sample_length = (int(sample_length_in_seconds*hps.sr)//top_prior.raw_to_tokens)*top_prior.raw_to_tokens\n",
        "assert hps.sample_length >= top_prior.n_ctx*top_prior.raw_to_tokens, f'Please choose a larger sampling rate'"
      ],
      "outputs": [],
      "metadata": {
        "id": "s8frZBfqqoPy"
      }
    },
    {
      "cell_type": "code",
      "execution_count": null,
      "source": [
        "metas = [dict(artist = \"Zac Brown Band\",\n",
        "            genre = \"Country\",\n",
        "            total_length = hps.sample_length,\n",
        "            offset = 0,\n",
        "            lyrics = \"\"\"I met a traveller from an antique land,\n",
        "            Who said—“Two vast and trunkless legs of stone\n",
        "            Stand in the desert. . . . Near them, on the sand,\n",
        "            Half sunk a shattered visage lies, whose frown,\n",
        "            And wrinkled lip, and sneer of cold command,\n",
        "            Tell that its sculptor well those passions read\n",
        "            Which yet survive, stamped on these lifeless things,\n",
        "            The hand that mocked them, and the heart that fed;\n",
        "            And on the pedestal, these words appear:\n",
        "            My name is Ozymandias, King of Kings;\n",
        "            Look on my Works, ye Mighty, and despair!\n",
        "            Nothing beside remains. Round the decay\n",
        "            Of that colossal Wreck, boundless and bare\n",
        "            The lone and level sands stretch far away\n",
        "            \"\"\",\n",
        "            ),\n",
        "          ] * hps.n_samples\n",
        "labels = top_prior.labeller.get_batch_labels(metas, 'cuda')"
      ],
      "outputs": [],
      "metadata": {
        "id": "QDMvH_1zUHo6"
      }
    },
    {
      "cell_type": "markdown",
      "source": [
        "## Generate 3 options for the start of the song\n",
        "\n",
        "Initial generation is set to be 4 seconds long, but feel free to change this"
      ],
      "metadata": {
        "id": "B9onZMEXh34f"
      }
    },
    {
      "cell_type": "code",
      "execution_count": null,
      "source": [
        "def seconds_to_tokens(sec, sr, prior, chunk_size):\n",
        "  tokens = sec * hps.sr // prior.raw_to_tokens\n",
        "  tokens = ((tokens // chunk_size) + 1) * chunk_size\n",
        "  assert tokens <= prior.n_ctx, 'Choose a shorter generation length to stay within the top prior context'\n",
        "  return tokens"
      ],
      "outputs": [],
      "metadata": {
        "id": "c6peEj8I_HHO"
      }
    },
    {
      "cell_type": "code",
      "execution_count": null,
      "source": [
        "initial_generation_in_seconds = 4\n",
        "tokens_to_sample = seconds_to_tokens(initial_generation_in_seconds, hps.sr, top_prior, chunk_size)"
      ],
      "outputs": [],
      "metadata": {
        "id": "2gn2GXt3zt3y"
      }
    },
    {
      "cell_type": "markdown",
      "source": [
        "Change the sampling temperature if you like (higher is more random).  Our favorite is in the range .98 to .995"
      ],
      "metadata": {
        "id": "U0zcWcMoiigl"
      }
    },
    {
      "cell_type": "code",
      "execution_count": null,
      "source": [
        "sampling_temperature = .98\n",
        "\n",
        "lower_batch_size = 16\n",
        "max_batch_size = 3 if model in ('5b', '5b_lyrics') else 16\n",
        "lower_level_chunk_size = 32\n",
        "chunk_size = 16 if model in ('5b', '5b_lyrics') else 32\n",
        "sampling_kwargs = dict(temp=sampling_temperature, fp16=True, max_batch_size=lower_batch_size,\n",
        "                        chunk_size=lower_level_chunk_size)"
      ],
      "outputs": [],
      "metadata": {
        "id": "NHbH68H7VMeO"
      }
    },
    {
      "cell_type": "code",
      "execution_count": null,
      "source": [
        "if sample_hps.mode == 'ancestral':\n",
        "  zs=[t.zeros(hps.n_samples,0,dtype=t.long, device='cuda') for _ in range(3)]\n",
        "  zs=sample_partial_window(zs, labels, sampling_kwargs, 2, top_prior, tokens_to_sample, hps)\n",
        "elif sample_hps.mode == 'primed':\n",
        "  assert sample_hps.audio_file is not None\n",
        "  audio_files = sample_hps.audio_file.split(',')\n",
        "  duration = (int(sample_hps.prompt_length_in_seconds*hps.sr)//top_prior.raw_to_tokens)*top_prior.raw_to_tokens\n",
        "  x = load_prompts(audio_files, duration, hps)\n",
        "  zs = top_prior.encode(x, start_level=0, end_level=len(priors), bs_chunks=x.shape[0])\n",
        "  zs = sample_partial_window(zs, labels, sampling_kwargs, 2, top_prior, tokens_to_sample, hps)\n",
        "x = vqvae.decode(zs[2:], start_level=2).cpu().numpy()"
      ],
      "outputs": [],
      "metadata": {
        "id": "JGZEPe-WTt4g"
      }
    },
    {
      "cell_type": "markdown",
      "source": [
        "Listen to your generated samples, and then pick a favorite. If you don't like any, go back and rerun the cell above. \n",
        "\n",
        "** NOTE this is at the noisy top level, upsample fully (in the next section) to hear the final audio version"
      ],
      "metadata": {
        "id": "mveN4Be8jK2J"
      }
    },
    {
      "cell_type": "code",
      "execution_count": null,
      "source": [
        "for i in range(hps.n_samples):\n",
        "  librosa.output.write_wav(f'noisy_top_level_generation_{i}.wav', x[i], sr=44100)"
      ],
      "outputs": [],
      "metadata": {
        "id": "LrJSGMhUOhZg"
      }
    },
    {
      "cell_type": "code",
      "execution_count": null,
      "source": [
        "Audio('noisy_top_level_generation_0.wav')"
      ],
      "outputs": [],
      "metadata": {
        "id": "rQ4ersQ5OhZr"
      }
    },
    {
      "cell_type": "code",
      "execution_count": null,
      "source": [
        "Audio('noisy_top_level_generation_1.wav')"
      ],
      "outputs": [],
      "metadata": {
        "id": "-GdqzrGkOhZv"
      }
    },
    {
      "cell_type": "code",
      "execution_count": null,
      "source": [
        "Audio('noisy_top_level_generation_2.wav')"
      ],
      "outputs": [],
      "metadata": {
        "id": "gE5S8hyZOhZy"
      }
    },
    {
      "cell_type": "markdown",
      "source": [
        "If you don't like any of the options, return a few cells back to \"Sample a few options...\" and rerun from there."
      ],
      "metadata": {
        "id": "t2-mEJaqZfuS"
      }
    },
    {
      "cell_type": "markdown",
      "source": [
        "## Choose your favorite sample and request longer generation\n",
        "\n",
        "---\n",
        "\n",
        "(Repeat from here)\n"
      ],
      "metadata": {
        "id": "o7CzSiv0MmFP"
      }
    },
    {
      "cell_type": "code",
      "execution_count": null,
      "source": [
        "my_choice=0"
      ],
      "outputs": [],
      "metadata": {
        "id": "j_XFtVi99CIY"
      }
    },
    {
      "cell_type": "code",
      "execution_count": null,
      "source": [
        "zs[2]=zs[2][my_choice].repeat(hps.n_samples,1)\n",
        "t.save(zs, 'zs-checkpoint2.t')"
      ],
      "outputs": [],
      "metadata": {
        "id": "Pgk3sHHBLYoq"
      }
    },
    {
      "cell_type": "code",
      "execution_count": null,
      "source": [
        "# Set to True to load the previous checkpoint:\n",
        "if False:\n",
        "  zs=t.load('zs-checkpoint2.t') "
      ],
      "outputs": [],
      "metadata": {
        "id": "W8Rd9xxm565S"
      }
    },
    {
      "cell_type": "markdown",
      "source": [
        "Choose the length of the continuation.  The 1B model can generate up to 17 second samples and the 5B up to 23 seconds, but you'll want to pick a shorter continuation length so that it will be able to look back at what you've generated already.  Here we've chosen 4 seconds."
      ],
      "metadata": {
        "id": "k12xjMgHkRGP"
      }
    },
    {
      "cell_type": "code",
      "execution_count": null,
      "source": [
        "continue_generation_in_seconds=4\n",
        "tokens_to_sample = seconds_to_tokens(continue_generation_in_seconds, hps.sr, top_prior, chunk_size)"
      ],
      "outputs": [],
      "metadata": {
        "id": "h3_-0a07kHHG"
      }
    },
    {
      "cell_type": "markdown",
      "source": [
        "The next step asks the top prior to generate more of the sample. It'll take up to a few minutes, depending on the sample length you request."
      ],
      "metadata": {
        "id": "GpPG3Ifqk8ue"
      }
    },
    {
      "cell_type": "code",
      "execution_count": null,
      "source": [
        "zs = sample_partial_window(zs, labels, sampling_kwargs, 2, top_prior, tokens_to_sample, hps)\n",
        "x = vqvae.decode(zs[2:], start_level=2).cpu().numpy()"
      ],
      "outputs": [],
      "metadata": {
        "id": "YoHkeSTaEyLj"
      }
    },
    {
      "cell_type": "markdown",
      "source": [
        "Now listen to the longer versions of the sample you selected, and again choose a favorite sample.  If you don't like any, return back to the cell where you can load the checkpoint, and continue again from there.\n",
        "\n",
        "When the samples start getting long, you might not always want to listen from the start, so change the playback start time later on if you like."
      ],
      "metadata": {
        "id": "ymhUqEdhleEi"
      }
    },
    {
      "cell_type": "code",
      "execution_count": null,
      "source": [
        "playback_start_time_in_seconds = 0 "
      ],
      "outputs": [],
      "metadata": {
        "id": "2H1LNLTa_R6a"
      }
    },
    {
      "cell_type": "code",
      "execution_count": null,
      "source": [
        "for i in range(hps.n_samples):\n",
        "  librosa.output.write_wav(f'top_level_continuation_{i}.wav', x[i][playback_start_time_in_seconds*44100:], sr=44100)"
      ],
      "outputs": [],
      "metadata": {
        "id": "r4SBGAmsnJtH"
      }
    },
    {
      "cell_type": "code",
      "execution_count": null,
      "source": [
        "Audio('top_level_continuation_0.wav')"
      ],
      "outputs": [],
      "metadata": {
        "id": "2WeyE5Qtnmeo"
      }
    },
    {
      "cell_type": "code",
      "execution_count": null,
      "source": [
        "Audio('top_level_continuation_1.wav')"
      ],
      "outputs": [],
      "metadata": {
        "id": "BKtfEtcaazXE"
      }
    },
    {
      "cell_type": "code",
      "execution_count": null,
      "source": [
        "Audio('top_level_continuation_2.wav')"
      ],
      "outputs": [],
      "metadata": {
        "id": "7yrlS0XwK2S0"
      }
    },
    {
      "cell_type": "markdown",
      "source": [
        "To make a longer song, return back to \"Choose your favorite sample\" and loop through that again"
      ],
      "metadata": {
        "id": "-OJT704dvnGv"
      }
    },
    {
      "cell_type": "markdown",
      "source": [
        "# Upsample Co-Composition to Higher Audio Quality"
      ],
      "metadata": {
        "id": "RzCrkCZJvUcQ"
      }
    },
    {
      "cell_type": "markdown",
      "source": [
        "Choose your favorite sample from your latest group of generations.  (If you haven't already gone through the Co-Composition block, make sure to do that first so you have a generation to upsample)."
      ],
      "metadata": {
        "id": "4MPgukwMmB0p"
      }
    },
    {
      "cell_type": "code",
      "execution_count": null,
      "source": [
        "choice = 0\n",
        "select_best_sample = True  # Set false if you want to upsample all your samples \n",
        "                           # upsampling sometimes yields subtly different results on multiple runs,\n",
        "                           # so this way you can choose your favorite upsampling"
      ],
      "outputs": [],
      "metadata": {
        "id": "yv-pNNPHBQYC"
      }
    },
    {
      "cell_type": "code",
      "execution_count": null,
      "source": [
        "if select_best_sample:\n",
        "  zs[2]=zs[2][choice].repeat(zs[2].shape[0],1)\n",
        "\n",
        "t.save(zs, 'zs-top-level-final.t')"
      ],
      "outputs": [],
      "metadata": {
        "id": "v17cEAqyCgfo"
      }
    },
    {
      "cell_type": "markdown",
      "source": [
        "Note: If you are using a CoLab hosted runtime on the free tier, you may want to download this zs-top-level-final.t file, and then restart an instance and load it in the next cell.  The free tier will last a maximum of 12 hours, and the upsampling stage can take many hours, depending on how long a sample you have generated."
      ],
      "metadata": {
        "id": "0YjK-Ac0tBfu"
      }
    },
    {
      "cell_type": "code",
      "execution_count": null,
      "source": [
        "if False:\n",
        "  zs = t.load('zs-top-level-final.t')\n",
        "\n",
        "assert zs[2].shape[1]>=2048, f'Please first generate at least 2048 tokens at the top level, currently you have {zs[2].shape[1]}'\n",
        "hps.sample_length = zs[2].shape[1]*top_prior.raw_to_tokens"
      ],
      "outputs": [],
      "metadata": {
        "id": "qqlR9368s3jJ"
      }
    },
    {
      "cell_type": "code",
      "execution_count": null,
      "source": [
        "# Set this False if you are on a local machine that has enough memory (this allows you to do the\n",
        "# lyrics alignment visualization). For a hosted runtime, we'll need to go ahead and delete the top_prior\n",
        "# if you are using the 5b_lyrics model.\n",
        "if True:\n",
        "  del top_prior\n",
        "  empty_cache()\n",
        "  top_prior=None\n",
        "\n",
        "upsamplers = [make_prior(setup_hparams(prior, dict()), vqvae, 'cpu') for prior in priors[:-1]]"
      ],
      "outputs": [],
      "metadata": {
        "id": "jzHwF_iqgIWM"
      }
    },
    {
      "cell_type": "code",
      "execution_count": null,
      "source": [
        "sampling_kwargs = [dict(temp=.99, fp16=True, max_batch_size=16, chunk_size=32),\n",
        "                    dict(temp=0.99, fp16=True, max_batch_size=16, chunk_size=32),\n",
        "                    None]\n",
        "\n",
        "if type(labels)==dict:\n",
        "  labels = [prior.labeller.get_batch_labels(metas, 'cuda') for prior in upsamplers] + [labels] "
      ],
      "outputs": [],
      "metadata": {
        "id": "q22Ier6YSkKS"
      }
    },
    {
      "cell_type": "markdown",
      "source": [
        "This next step upsamples 2 levels.  The level_1 samples will be available after around one hour (depending on the length of your sample) and are saved under {hps.name}/level_0/item_0.wav, while the fully upsampled level_0 will likely take 4-12 hours. You can access the wav files down below, or using the \"Files\" panel at the left of this CoLab.\n",
        "\n",
        "(Please note, if you are using this CoLab on Google's free tier, you may want to download intermediate steps as the connection will last for a maximum 12 hours.)"
      ],
      "metadata": {
        "id": "T1MCa9_jnjpf"
      }
    },
    {
      "cell_type": "code",
      "execution_count": null,
      "source": [
        "zs = upsample(zs, labels, sampling_kwargs, [*upsamplers, top_prior], hps)"
      ],
      "outputs": [],
      "metadata": {
        "id": "NcNT5qIRMmHq"
      }
    },
    {
      "cell_type": "code",
      "execution_count": null,
      "source": [
        "Audio(f'{hps.name}/level_0/item_0.wav')"
      ],
      "outputs": [],
      "metadata": {
        "id": "W2jTYLPBc29M"
      }
    }
  ]
}